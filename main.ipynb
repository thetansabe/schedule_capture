{
 "cells": [
  {
   "cell_type": "code",
   "execution_count": 59,
   "metadata": {},
   "outputs": [],
   "source": [
    "from selenium import webdriver\n",
    "#from selenium.webdriver.common.keys import Keys #Keys.enter -> search bar\n",
    "from selenium.webdriver.support.ui import Select\n",
    "#from bs4 import BeautifulSoup\n",
    "\n",
    "from datetime import datetime as dt\n",
    "from time import sleep"
   ]
  },
  {
   "cell_type": "code",
   "execution_count": 100,
   "metadata": {},
   "outputs": [],
   "source": [
    "USERNAME = '52000643'\n",
    "PASSWORD = 'TDTU2919'\n",
    "\n",
    "SEMESTER_CODE = '113'\n",
    "DATE_LOOK_UP = '10/7/2022'\n",
    "\n",
    "SAVE_PATH = \"D:\\A_Side_Project\\Schedule_crawler\\out.png\""
   ]
  },
  {
   "cell_type": "code",
   "execution_count": 101,
   "metadata": {},
   "outputs": [],
   "source": [
    "#Step 1: Login to std tdtu\n",
    "\n",
    "#open website\n",
    "driver = webdriver.Chrome()\n",
    "url = 'https://stdportal.tdtu.edu.vn/'\n",
    "driver.get(url)\n",
    "\n",
    "#login website\n",
    "user_field = driver.find_element('name','email')\n",
    "user_field.send_keys(USERNAME)\n",
    "\n",
    "password_field = driver.find_element('name','password')\n",
    "password_field.send_keys(PASSWORD)\n",
    "\n",
    "#click login\n",
    "sleep(1)\n",
    "login_btn = driver.find_element('id', 'btnLogIn')\n",
    "login_btn.click()\n"
   ]
  },
  {
   "cell_type": "code",
   "execution_count": 102,
   "metadata": {},
   "outputs": [],
   "source": [
    "#mo muc dao tao / old website\n",
    "schedule_url = 'https://lichhoc-lichthi.tdtu.edu.vn'\n",
    "driver.get(schedule_url)"
   ]
  },
  {
   "cell_type": "code",
   "execution_count": 103,
   "metadata": {},
   "outputs": [],
   "source": [
    "#vao hoc ki can crawl\n",
    "select_field = driver.find_element('id', 'ThoiKhoaBieu1_cboHocKy')\n",
    "dropdown = Select(select_field)\n",
    "\n",
    "dropdown.select_by_value(SEMESTER_CODE)"
   ]
  },
  {
   "cell_type": "code",
   "execution_count": null,
   "metadata": {},
   "outputs": [],
   "source": [
    "#STEP 2: CRAWL DATA\n",
    "#tai toan bo html page hien tai\n",
    "# page_source = BeautifulSoup(driver.page_source)\n",
    "\n",
    "# shifts_html = page_source.find_all('td', rowspan = '5')\n",
    "# print(shifts_html)"
   ]
  },
  {
   "cell_type": "code",
   "execution_count": 104,
   "metadata": {},
   "outputs": [],
   "source": [
    "\n",
    "def getWeekDates(driver):\n",
    "    \n",
    "    #select input chua thong tin khoang thoi gian cua tuan\n",
    "    date_input = driver.find_element('id', 'ThoiKhoaBieu1_btnTuanHienTai')\n",
    "    date_input_value = date_input.get_attribute('value')\n",
    "\n",
    "    #print(date_input_value): 04/07/2022 - 10/07/2022\n",
    "    from_to = date_input_value.split('-')\n",
    "    from_date = from_to[0].strip()\n",
    "    to_date = from_to[1].strip()\n",
    "\n",
    "    return {from_date : from_date, to_date : to_date}\n",
    "\n",
    "\n"
   ]
  },
  {
   "cell_type": "code",
   "execution_count": 105,
   "metadata": {},
   "outputs": [],
   "source": [
    "def takeScreenShot(driver):\n",
    "    ###take a real nice picture\n",
    "\n",
    "    #open web in full view\n",
    "    driver.maximize_window()\n",
    "\n",
    "    #go to positon document.getElementById(\"ThoiKhoaBieu1_tbTKBTheoTuan\").scrollIntoView()\n",
    "    driver.execute_script('document.getElementById(\"ThoiKhoaBieu1_tbTKBTheoTuan\").scrollIntoView()')\n",
    "\n",
    "    #take screenshot\n",
    "    driver.save_screenshot(SAVE_PATH)\n"
   ]
  },
  {
   "cell_type": "code",
   "execution_count": 106,
   "metadata": {},
   "outputs": [],
   "source": [
    "flag = True #start looping\n",
    "\n",
    "while flag:\n",
    "    from_date , to_date = getWeekDates(driver)\n",
    "\n",
    "    #xu li string date -> datetime\n",
    "    from_date = dt.strptime(from_date, \"%d/%m/%Y\")\n",
    "    to_date = dt.strptime(to_date, \"%d/%m/%Y\")\n",
    "    my_date = dt.strptime(DATE_LOOK_UP, \"%d/%m/%Y\")\n",
    "\n",
    "    if(my_date >= from_date and my_date <= to_date): \n",
    "        takeScreenShot(driver)\n",
    "        flag = False\n",
    "    else:\n",
    "        #xu li chuyen trang\n",
    "        next_btn = driver.find_element('id', 'ThoiKhoaBieu1_btnTuanSau')\n",
    "        next_btn.click()\n"
   ]
  }
 ],
 "metadata": {
  "kernelspec": {
   "display_name": "Python 3.9.6 64-bit",
   "language": "python",
   "name": "python3"
  },
  "language_info": {
   "codemirror_mode": {
    "name": "ipython",
    "version": 3
   },
   "file_extension": ".py",
   "mimetype": "text/x-python",
   "name": "python",
   "nbconvert_exporter": "python",
   "pygments_lexer": "ipython3",
   "version": "3.9.6"
  },
  "orig_nbformat": 4,
  "vscode": {
   "interpreter": {
    "hash": "ee910f659cfefb90bec9d5c1d880130c981226b368b89dd903b9a041a03d302c"
   }
  }
 },
 "nbformat": 4,
 "nbformat_minor": 2
}
